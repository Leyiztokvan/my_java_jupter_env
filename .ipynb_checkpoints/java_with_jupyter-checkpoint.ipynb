{
 "cells": [
  {
   "cell_type": "markdown",
   "id": "6dc76223-b6af-4725-9f25-c8dd72de6c7c",
   "metadata": {},
   "source": [
    "# This is an implentaion of Java in Jupyter in an Conda env\n",
    "To add java support to jupyter, a java kernel must be add in the conda env.\n",
    "\n",
    "Option: **IJava** is a Jupyter kernel for executing Java code.\n"
   ]
  },
  {
   "cell_type": "markdown",
   "id": "bcdb8c65-f904-48da-908e-3674eb582d96",
   "metadata": {},
   "source": [
    "### Asking the user to enter an integer and printing it out"
   ]
  },
  {
   "cell_type": "code",
   "execution_count": 8,
   "id": "b647a242-f12a-428c-840a-ef8a33fab054",
   "metadata": {},
   "outputs": [
    {
     "name": "stdout",
     "output_type": "stream",
     "text": [
      "Enter an integer: \n"
     ]
    },
    {
     "name": "stdin",
     "output_type": "stream",
     "text": [
      " 7\n"
     ]
    },
    {
     "name": "stdout",
     "output_type": "stream",
     "text": [
      "Your int is 7\n"
     ]
    }
   ],
   "source": [
    "import java.util.Scanner;\n",
    "\n",
    "Scanner scan = new Scanner(System.in);\n",
    "System.out.println(\"Enter an integer: \");\n",
    "int a = scan.nextInt();\n",
    "System.out.println(\"Your int is \" + a);\n",
    "\n"
   ]
  },
  {
   "cell_type": "markdown",
   "id": "5f8c4483-271d-44fe-bd53-a5870974e5da",
   "metadata": {},
   "source": [
    "### JDBC Driver Demo - DOESN'T Work!"
   ]
  },
  {
   "cell_type": "code",
   "execution_count": 18,
   "id": "98133507-d007-4f37-93de-5a8a9efd1903",
   "metadata": {},
   "outputs": [
    {
     "ename": "EvalException",
     "evalue": "org.sqlite.JDBC",
     "output_type": "error",
     "traceback": [
      "\u001b[1m\u001b[31m---------------------------------------------------------------------------\u001b[0m",
      "\u001b[1m\u001b[31mjava.lang.ClassNotFoundException: org.sqlite.JDBC\u001b[0m",
      "\u001b[1m\u001b[31m\tat java.base/java.net.URLClassLoader.findClass(URLClassLoader.java:445)\u001b[0m",
      "\u001b[1m\u001b[31m\tat jdk.jshell/jdk.jshell.execution.DefaultLoaderDelegate$RemoteClassLoader.findClass(DefaultLoaderDelegate.java:154)\u001b[0m",
      "\u001b[1m\u001b[31m\tat java.base/java.lang.ClassLoader.loadClass(ClassLoader.java:592)\u001b[0m",
      "\u001b[1m\u001b[31m\tat java.base/java.lang.ClassLoader.loadClass(ClassLoader.java:525)\u001b[0m",
      "\u001b[1m\u001b[31m\tat java.base/java.lang.Class.forName0(Native Method)\u001b[0m",
      "\u001b[1m\u001b[31m\tat java.base/java.lang.Class.forName(Class.java:375)\u001b[0m",
      "\u001b[1m\u001b[31m\tat .(#37:1)\u001b[0m"
     ]
    }
   ],
   "source": [
    "import java.sql.Connection;\n",
    "import java.sql.DriverManager;\n",
    "import java.sql.SQLException;\n",
    "\n",
    "Class.forName(\"org.sqlite.JDBC\");\n",
    "Connection conn = null;\n",
    "try {  \n",
    "    // db parameters\n",
    "    String url = \"jdbc:sqlite:Downloads/Data Science Lab (DSL) - Winter Trainings 2024/Tools for Python development/O_my_project/my_java_jupter_env/demoDb.db\";\n",
    "    // create a connection to the database\n",
    "    conn = DriverManager.getConnection(url);\n",
    "    System.out.println(conn);\n",
    "    System.out.println(\"Connection to SQLite has been established.\");\n",
    "    conn.close();\n",
    "} catch (SQLException e) {\n",
    "    System.out.println(e.getMessage());\n",
    "}\n",
    "\n"
   ]
  },
  {
   "cell_type": "code",
   "execution_count": null,
   "id": "6ca81c2b-7f63-4e26-80af-7423fc13cae2",
   "metadata": {},
   "outputs": [],
   "source": []
  }
 ],
 "metadata": {
  "kernelspec": {
   "display_name": "Java",
   "language": "java",
   "name": "java"
  },
  "language_info": {
   "codemirror_mode": "java",
   "file_extension": ".jshell",
   "mimetype": "text/x-java-source",
   "name": "Java",
   "pygments_lexer": "java",
   "version": "17.0.9-internal+0-adhoc..src"
  }
 },
 "nbformat": 4,
 "nbformat_minor": 5
}
